{
 "cells": [
  {
   "cell_type": "code",
   "execution_count": 1,
   "metadata": {},
   "outputs": [],
   "source": [
    "import numpy as np\n",
    "import csv\n",
    "import time\n",
    "\n",
    "np.random.seed(42) # set reandom seed\n",
    "def randomize(): \n",
    "    np.random.seed(time.time())  # set random seed with time\n",
    "    \n",
    "# set hyperparameters\n",
    "RND_MEAN = 0  # for initiating hyperparamerter\n",
    "RND_STD = .003  # for initiating hyperparamerter\n",
    "LEARNING_RATE = .001\n",
    "\n",
    "# 1. main\n",
    "def abalone_exec(epoch_count=10, mb_size=10, report=1):\n",
    "    load_abalone_dataset()  # 데이터 불러오기\n",
    "    init_model()  # 파라메터 초가화\n",
    "    train_and_test(epoch_count, mb_size, report)  # 모델링\n",
    "    \n",
    "# 2. load data\n",
    "def load_abalone_dataset():\n",
    "    path = '../../data/abalone.csv'\n",
    "    with open(path) as csvfile:\n",
    "        csvreader = csv.reader(csvfile)  # 메모리에 파일 올리기\n",
    "        next(csvreader, None)  # 첫행(header) 읽지 않고 건너뛰기\n",
    "        rows = []\n",
    "        for row in csvreader:\n",
    "            rows.append(row)  # 모든 row 저장\n",
    "        \n",
    "        global data, input_cnt, output_cnt  # 입출력 벡터, 입력벡터 크기(열 수), 출력벡터 크기 전역변수 선언\n",
    "        \n",
    "        input_cnt, output_cnt = 10, 1  # 입력, 출력 벡터 수 초기화\n",
    "        data = np.zeros([len[rows], input_cnt+output_cnt])  # 입출력 벡터 초기화\n",
    "        \n",
    "        # 데이터 전역변수에 저장\n",
    "        for n, row in enumerate(rows):\n",
    "            # one hot vector \n",
    "            if row[0] == 'I': data[n, 0] = 1\n",
    "            if row[0] == 'M': data[n, 1] = 1\n",
    "            if row[0] == 'F': data[n, 2] = 1\n",
    "            data[n, 3:] = row[1: ]  # 성별정보를 제외하고 data 에 저장\n",
    "    \n",
    "# 파라메터 초기화\n",
    "def ini_model():\n",
    "    global weight, bias, input_cnt, output_cnt  # 가중치, 편향, 입력벡터 차원, 출력벡터 차원 전역변수 선언\n",
    "    weight = np.random.normal(loc=RND_MEAN, scale=RND_STD, size=[input_cnt, output_cnt])  # 가중치 초기화(정규분포)\n",
    "    bias = np.zeors([output_cnt])  # 편향 0으로 초기화\n",
    "    "
   ]
  },
  {
   "cell_type": "code",
   "execution_count": null,
   "metadata": {},
   "outputs": [],
   "source": []
  }
 ],
 "metadata": {
  "kernelspec": {
   "display_name": "venv",
   "language": "python",
   "name": "venv"
  },
  "language_info": {
   "codemirror_mode": {
    "name": "ipython",
    "version": 3
   },
   "file_extension": ".py",
   "mimetype": "text/x-python",
   "name": "python",
   "nbconvert_exporter": "python",
   "pygments_lexer": "ipython3",
   "version": "3.6.9"
  }
 },
 "nbformat": 4,
 "nbformat_minor": 2
}
